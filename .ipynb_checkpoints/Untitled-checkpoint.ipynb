{
 "cells": [
  {
   "cell_type": "code",
   "execution_count": 2,
   "metadata": {
    "collapsed": false
   },
   "outputs": [],
   "source": [
    "import string"
   ]
  },
  {
   "cell_type": "code",
   "execution_count": 29,
   "metadata": {
    "collapsed": true
   },
   "outputs": [],
   "source": [
    "a = 'KEYWORDS\tLASTUPDATEDDATE\tORGRECAREAID\tRECAREADESCRIPTION\tRECAREADIRECTIONS\tRECAREAEMAIL\tRECAREAFEEDESCRIPTION\tRECAREAID\tRECAREALATITUDE\tRECAREALONGITUDE\tRECAREAMAPURL\tRECAREANAME\tRECAREAPHONE\tRECAREARESERVATIONURL\tSTAYLIMIT'"
   ]
  },
  {
   "cell_type": "code",
   "execution_count": 30,
   "metadata": {
    "collapsed": false
   },
   "outputs": [
    {
     "data": {
      "text/plain": [
       "['keywords',\n",
       " 'lastupdateddate',\n",
       " 'orgrecareaid',\n",
       " 'recareadescription',\n",
       " 'recareadirections',\n",
       " 'recareaemail',\n",
       " 'recareafeedescription',\n",
       " 'recareaid',\n",
       " 'recarealatitude',\n",
       " 'recarealongitude',\n",
       " 'recareamapurl',\n",
       " 'recareaname',\n",
       " 'recareaphone',\n",
       " 'recareareservationurl',\n",
       " 'staylimit']"
      ]
     },
     "execution_count": 30,
     "metadata": {},
     "output_type": "execute_result"
    }
   ],
   "source": [
    "a.lower().split('\\t')"
   ]
  },
  {
   "cell_type": "code",
   "execution_count": null,
   "metadata": {
    "collapsed": true
   },
   "outputs": [],
   "source": []
  }
 ],
 "metadata": {
  "kernelspec": {
   "display_name": "Python 3",
   "language": "python",
   "name": "python3"
  },
  "language_info": {
   "codemirror_mode": {
    "name": "ipython",
    "version": 3
   },
   "file_extension": ".py",
   "mimetype": "text/x-python",
   "name": "python",
   "nbconvert_exporter": "python",
   "pygments_lexer": "ipython3",
   "version": "3.5.2"
  }
 },
 "nbformat": 4,
 "nbformat_minor": 0
}
